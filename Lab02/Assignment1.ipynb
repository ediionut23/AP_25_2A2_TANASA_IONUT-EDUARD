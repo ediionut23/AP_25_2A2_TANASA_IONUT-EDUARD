{
  "cells": [
    {
      "cell_type": "markdown",
      "metadata": {
        "id": "gEkQsKJLIety"
      },
      "source": [
        "<a target=\"_blank\" href=\"https://colab.research.google.com/github/Tensor-Reloaded/Neural-Networks-Template-2025/blob/main/Lab02/Assignment1.ipynb\">\n",
        "  <img src=\"https://colab.research.google.com/assets/colab-badge.svg\" alt=\"Open In Colab\"/>\n",
        "</a>"
      ]
    },
    {
      "cell_type": "markdown",
      "metadata": {
        "id": "q-YWG4NIIetz"
      },
      "source": [
        "# **Assignment 1 (10 points)**"
      ]
    },
    {
      "cell_type": "markdown",
      "metadata": {
        "vscode": {
          "languageId": "plaintext"
        },
        "id": "nCuZfeezIetz"
      },
      "source": [
        "## **Solving a linear system in python**"
      ]
    },
    {
      "cell_type": "markdown",
      "metadata": {
        "vscode": {
          "languageId": "plaintext"
        },
        "id": "A_VUI7vAIet0"
      },
      "source": [
        "In this homework, you will familiarize yourself with key linear algebra con-\n",
        "cepts and Python programming by solving a system of linear equations. You\n",
        "will explore multiple methods for solving such systems, including Cramer’s rule\n",
        "and matrix inversion. By the end of this assignment, you will have a good un-\n",
        "derstanding of how to represent and manipulate matrices and vectors in Python."
      ]
    },
    {
      "cell_type": "markdown",
      "metadata": {
        "vscode": {
          "languageId": "plaintext"
        },
        "id": "6NUrJ-KKIet0"
      },
      "source": [
        "We begin with the following system of 3 linear equations with 3 unknowns:\n",
        "$$ 2x + 3y - z = 5 $$\n",
        "$$ x - y + 4z = 6 $$\n",
        "$$ 3x + y + 2z = 7 $$\n",
        "\n",
        "This system can be vectorized in the following form:\n",
        "$$ A \\cdot X = B $$\n",
        "where:\n",
        "$$\n",
        "A = \\begin{bmatrix}\n",
        "2 & 3 & -1 \\\\\n",
        "1 & -1 & 4 \\\\\n",
        "3 & 1 & 2\n",
        "\\end{bmatrix}, \\quad\n",
        "X = \\begin{bmatrix}\n",
        "x \\\\\n",
        "y \\\\\n",
        "z\n",
        "\\end{bmatrix}, \\quad\n",
        "B = \\begin{bmatrix}\n",
        "5 \\\\\n",
        "6 \\\\\n",
        "7\n",
        "\\end{bmatrix}\n",
        "$$\n",
        "\n",
        "**Considerations**\n",
        "- do not use any linear algebra framework such as $numpy$\n",
        "- use python lists as data structures for matrices and vectors\n",
        "- experiment with other values for the coefficients and free terms"
      ]
    },
    {
      "cell_type": "markdown",
      "metadata": {
        "vscode": {
          "languageId": "plaintext"
        },
        "id": "0D6vGIhZIet0"
      },
      "source": [
        "### **1. Parsing the System of Equations (1 point)**"
      ]
    },
    {
      "cell_type": "markdown",
      "metadata": {
        "vscode": {
          "languageId": "plaintext"
        },
        "id": "54FjfLJaIet0"
      },
      "source": [
        "The first task is to implement a Python script that reads a system of linear equations from a text file and parses it into a matrix $A$ and a vector $B$. You will use the input format described below to extract the coefficients for $A$ and $B$.\n",
        "\n",
        "**Input File Format**\n",
        "```text\n",
        "2x + 3y - z = 5\n",
        "x - y + 4z = 6\n",
        "3x + y + 2z = 7\n",
        "```\n",
        "\n",
        "Note that the coefficients are always in the order x, y and z and the terms are always space separated"
      ]
    },
    {
      "cell_type": "code",
      "execution_count": 2,
      "metadata": {
        "colab": {
          "base_uri": "https://localhost:8080/",
          "height": 358
        },
        "id": "8h8_Dz6NIet0",
        "outputId": "383c9ca3-39b6-49fd-9951-a203a35e27b8"
      },
      "outputs": [
        {
          "output_type": "error",
          "ename": "FileNotFoundError",
          "evalue": "[Errno 2] No such file or directory: 'system.txt'",
          "traceback": [
            "\u001b[0;31m---------------------------------------------------------------------------\u001b[0m",
            "\u001b[0;31mFileNotFoundError\u001b[0m                         Traceback (most recent call last)",
            "\u001b[0;32m/tmp/ipython-input-2933926006.py\u001b[0m in \u001b[0;36m<cell line: 0>\u001b[0;34m()\u001b[0m\n\u001b[1;32m     29\u001b[0m     \u001b[0;32mreturn\u001b[0m \u001b[0mA\u001b[0m\u001b[0;34m,\u001b[0m \u001b[0mB\u001b[0m\u001b[0;34m\u001b[0m\u001b[0;34m\u001b[0m\u001b[0m\n\u001b[1;32m     30\u001b[0m \u001b[0;34m\u001b[0m\u001b[0m\n\u001b[0;32m---> 31\u001b[0;31m \u001b[0mA\u001b[0m\u001b[0;34m,\u001b[0m \u001b[0mB\u001b[0m \u001b[0;34m=\u001b[0m \u001b[0mload_system\u001b[0m\u001b[0;34m(\u001b[0m\u001b[0mpathlib\u001b[0m\u001b[0;34m.\u001b[0m\u001b[0mPath\u001b[0m\u001b[0;34m(\u001b[0m\u001b[0;34m\"system.txt\"\u001b[0m\u001b[0;34m)\u001b[0m\u001b[0;34m)\u001b[0m\u001b[0;34m\u001b[0m\u001b[0;34m\u001b[0m\u001b[0m\n\u001b[0m\u001b[1;32m     32\u001b[0m \u001b[0mprint\u001b[0m\u001b[0;34m(\u001b[0m\u001b[0;34mf\"{A=} {B=}\"\u001b[0m\u001b[0;34m)\u001b[0m\u001b[0;34m\u001b[0m\u001b[0;34m\u001b[0m\u001b[0m\n",
            "\u001b[0;32m/tmp/ipython-input-2933926006.py\u001b[0m in \u001b[0;36mload_system\u001b[0;34m(path)\u001b[0m\n\u001b[1;32m      4\u001b[0m     \u001b[0mA\u001b[0m \u001b[0;34m=\u001b[0m \u001b[0;34m[\u001b[0m\u001b[0;34m]\u001b[0m\u001b[0;34m\u001b[0m\u001b[0;34m\u001b[0m\u001b[0m\n\u001b[1;32m      5\u001b[0m     \u001b[0mB\u001b[0m \u001b[0;34m=\u001b[0m \u001b[0;34m[\u001b[0m\u001b[0;34m]\u001b[0m\u001b[0;34m\u001b[0m\u001b[0;34m\u001b[0m\u001b[0m\n\u001b[0;32m----> 6\u001b[0;31m     \u001b[0;32mwith\u001b[0m \u001b[0mopen\u001b[0m\u001b[0;34m(\u001b[0m\u001b[0mpath\u001b[0m\u001b[0;34m,\u001b[0m \u001b[0;34m'r'\u001b[0m\u001b[0;34m)\u001b[0m \u001b[0;32mas\u001b[0m \u001b[0mf\u001b[0m\u001b[0;34m:\u001b[0m\u001b[0;34m\u001b[0m\u001b[0;34m\u001b[0m\u001b[0m\n\u001b[0m\u001b[1;32m      7\u001b[0m         \u001b[0;32mfor\u001b[0m \u001b[0mlinie\u001b[0m \u001b[0;32min\u001b[0m \u001b[0mf\u001b[0m\u001b[0;34m:\u001b[0m\u001b[0;34m\u001b[0m\u001b[0;34m\u001b[0m\u001b[0m\n\u001b[1;32m      8\u001b[0m             \u001b[0mlinie\u001b[0m \u001b[0;34m=\u001b[0m \u001b[0mlinie\u001b[0m\u001b[0;34m.\u001b[0m\u001b[0mstrip\u001b[0m\u001b[0;34m(\u001b[0m\u001b[0;34m)\u001b[0m\u001b[0;34m\u001b[0m\u001b[0;34m\u001b[0m\u001b[0m\n",
            "\u001b[0;31mFileNotFoundError\u001b[0m: [Errno 2] No such file or directory: 'system.txt'"
          ]
        }
      ],
      "source": [
        "import pathlib\n",
        "\n",
        "def load_system(path: pathlib.Path) -> tuple[list[list[float]], list[float]]:\n",
        "    A = []\n",
        "    B = []\n",
        "    with open(path, 'r') as f:\n",
        "        for linie in f:\n",
        "            linie = linie.strip()\n",
        "            if not linie:\n",
        "                continue\n",
        "            left, right = linie.split('=')\n",
        "            B.append(float(right))\n",
        "            coeficienti = []\n",
        "            termeni = left.split()\n",
        "            semn = 1\n",
        "            for termen in termeni:\n",
        "                if termen == '+':\n",
        "                    semn = 1\n",
        "                elif termen == '-':\n",
        "                    semn = -1\n",
        "                elif 'x' in termen or 'y' in termen or 'z' in termen:\n",
        "                    coef = termen.replace('x', '').replace('y', '').replace('z', '').replace('+', '').strip()\n",
        "                    if coef == '':\n",
        "                        coeficienti.append(1.0 * semn)\n",
        "                    else:\n",
        "                        coeficienti.append(float(coef) * semn)\n",
        "                    semn = 1\n",
        "            A.append(coeficienti)\n",
        "    return A, B\n",
        "\n",
        "A, B = load_system(pathlib.Path(\"system.txt\"))\n",
        "print(f\"{A=} {B=}\")"
      ]
    },
    {
      "cell_type": "markdown",
      "metadata": {
        "vscode": {
          "languageId": "plaintext"
        },
        "id": "Lx6W7dWwIet1"
      },
      "source": [
        "### **2. Matrix and Vector Operations (5 points)**"
      ]
    },
    {
      "cell_type": "markdown",
      "metadata": {
        "vscode": {
          "languageId": "plaintext"
        },
        "id": "qn2vofQlIet1"
      },
      "source": [
        "Once you have successfully parsed the matrix and vector, complete the following exercises to manipulate and understand basic matrix and vector operations. Write Python functions for each of these tasks:"
      ]
    },
    {
      "cell_type": "markdown",
      "metadata": {
        "vscode": {
          "languageId": "plaintext"
        },
        "id": "xRDgxsWhIet1"
      },
      "source": [
        "#### 2.1. Determinant"
      ]
    },
    {
      "cell_type": "markdown",
      "metadata": {
        "vscode": {
          "languageId": "plaintext"
        },
        "id": "tn0t9nICIet1"
      },
      "source": [
        "Write a function to compute the determinant of matrix $A$. Recall one of the formulae for the determinant of a $3x3$ matrix:\n",
        "$$ \\text{det}(A) = a_{11}(a_{22}a_{33} - a_{23}a_{32}) - a_{12}(a_{21}a_{33} - a_{23}a_{31}) + a_{13}(a_{21}a_{32} - a_{22}a_{31}) $$"
      ]
    },
    {
      "cell_type": "code",
      "execution_count": null,
      "metadata": {
        "id": "puzeN3vyIet1",
        "outputId": "a925f918-4aa3-4710-8708-b4c59635554f"
      },
      "outputs": [
        {
          "name": "stdout",
          "output_type": "stream",
          "text": [
            "determinant(A)=0.0\n"
          ]
        }
      ],
      "source": [
        "def determinant(matrix: list[list[float]]) -> float:\n",
        "    return 0.0\n",
        "\n",
        "print(f\"{determinant(A)=}\")"
      ]
    },
    {
      "cell_type": "markdown",
      "metadata": {
        "id": "nRcWDIljIet1"
      },
      "source": [
        "#### 2.2. Trace"
      ]
    },
    {
      "cell_type": "markdown",
      "metadata": {
        "id": "uqLdOPBIIet1"
      },
      "source": [
        "Compute the sum of the elements along the main diagonal of matrix $A$. For a matrix $A$, this is:\n",
        "$$ \\text{Trace}(A) = a_{11} + a_{22} + a_{33} $$"
      ]
    },
    {
      "cell_type": "code",
      "execution_count": null,
      "metadata": {
        "id": "JerD3dcWIet1",
        "outputId": "899d1356-f48c-4907-b71d-20127720a7a4"
      },
      "outputs": [
        {
          "name": "stdout",
          "output_type": "stream",
          "text": [
            "trace(A)=0.0\n"
          ]
        }
      ],
      "source": [
        "def trace(matrix: list[list[float]]) -> float:\n",
        "    return 0.0\n",
        "\n",
        "print(f\"{trace(A)=}\")"
      ]
    },
    {
      "cell_type": "markdown",
      "metadata": {
        "id": "p-XFV0r0Iet2"
      },
      "source": [
        "#### 2.3. Vector norm"
      ]
    },
    {
      "cell_type": "markdown",
      "metadata": {
        "id": "29t1iCLIIet2"
      },
      "source": [
        "Compute the Euclidean norm of vector $B$, which is:\n",
        "$$ ||B|| = \\sqrt{b_1^2 + b_2^2 + b_3^2} $$"
      ]
    },
    {
      "cell_type": "code",
      "execution_count": null,
      "metadata": {
        "id": "UdLbv18GIet2",
        "outputId": "7ea80778-911b-4818-a60f-95636931dab4"
      },
      "outputs": [
        {
          "name": "stdout",
          "output_type": "stream",
          "text": [
            "norm(B)=0.0\n"
          ]
        }
      ],
      "source": [
        "def norm(vector: list[float]) -> float:\n",
        "    return 0.0\n",
        "\n",
        "print(f\"{norm(B)=}\")"
      ]
    },
    {
      "cell_type": "markdown",
      "metadata": {
        "id": "ceXoQBdBIet2"
      },
      "source": [
        "#### 2.4. Transpose of matrix"
      ]
    },
    {
      "cell_type": "markdown",
      "metadata": {
        "id": "2WFHNxwvIet2"
      },
      "source": [
        "Write a function to compute the transpose of matrix $A$. The transpose of a matrix $A$ is obtained by swapping its rows and columns.\n",
        "    "
      ]
    },
    {
      "cell_type": "code",
      "execution_count": null,
      "metadata": {
        "id": "M9y7u6NLIet2",
        "outputId": "41b4156d-08d5-4301-d4e7-5b76d54b3fa3"
      },
      "outputs": [
        {
          "name": "stdout",
          "output_type": "stream",
          "text": [
            "transpose(A)=[[0, 0, 0], [0, 0, 0], [0, 0, 0]]\n"
          ]
        }
      ],
      "source": [
        "def transpose(matrix: list[list[float]]) -> list[list[float]]:\n",
        "    return [[0, 0, 0], [0, 0, 0], [0, 0, 0]]\n",
        "\n",
        "print(f\"{transpose(A)=}\")"
      ]
    },
    {
      "cell_type": "markdown",
      "metadata": {
        "id": "t6BoFiEeIet2"
      },
      "source": [
        "#### 2.5. Matrix-vector multiplication"
      ]
    },
    {
      "cell_type": "markdown",
      "metadata": {
        "id": "6eqIsfqdIet2"
      },
      "source": [
        "Write a function that multiplies matrix $A$ with vector $B$."
      ]
    },
    {
      "cell_type": "code",
      "execution_count": null,
      "metadata": {
        "id": "g8xSOyiCIet2",
        "outputId": "4995b1a6-543d-4237-e999-d0940dc66743"
      },
      "outputs": [
        {
          "name": "stdout",
          "output_type": "stream",
          "text": [
            "multiply(A, B)=[0, 0, 0]\n"
          ]
        }
      ],
      "source": [
        "def multiply(matrix: list[list[float]], vector: list[float]) -> list[float]:\n",
        "    return [0, 0, 0]\n",
        "\n",
        "print(f\"{multiply(A, B)=}\")"
      ]
    },
    {
      "cell_type": "markdown",
      "metadata": {
        "id": "sUQU36TxIet2"
      },
      "source": [
        "### **3. Solving using Cramer's Rule (1 point)**"
      ]
    },
    {
      "cell_type": "markdown",
      "metadata": {
        "id": "SRrVBORHIet2"
      },
      "source": [
        "Now that you have explored basic matrix operations, solve the system of linear equations using Cramer's rule.\n",
        "\n",
        "**Cramer's Rule:**\n",
        "\n",
        "Cramer's rule allows you to solve for each unknown $x$, $y$, and $z$ using determinants. For example:\n",
        "$$ x = \\frac{\\text{det}(A_x)}{\\text{det}(A)}, \\quad y = \\frac{\\text{det}(A_y)}{\\text{det}(A)}, \\quad z = \\frac{\\text{det}(A_z)}{\\text{det}(A)} $$\n",
        "where $A_x$, $A_y$, and $A_z$ are matrices formed by replacing the respective column of matrix $A$ with vector $B$."
      ]
    },
    {
      "cell_type": "code",
      "execution_count": null,
      "metadata": {
        "id": "vOStaNB-Iet2",
        "outputId": "7b07938e-569a-443b-9cd8-1f36d3bdcb39"
      },
      "outputs": [
        {
          "name": "stdout",
          "output_type": "stream",
          "text": [
            "solve_cramer(A, B)=[0, 0, 0]\n"
          ]
        }
      ],
      "source": [
        "def solve_cramer(matrix: list[list[float]], vector: list[float]) -> list[float]:\n",
        "    return [0, 0, 0]\n",
        "\n",
        "print(f\"{solve_cramer(A, B)=}\")"
      ]
    },
    {
      "cell_type": "markdown",
      "metadata": {
        "id": "1XJfnwt1Iet2"
      },
      "source": [
        "### **4. Solving using Inversion (3 points)**"
      ]
    },
    {
      "cell_type": "markdown",
      "metadata": {
        "id": "QSqTBg3VIet2"
      },
      "source": [
        "Finally, solve the system by computing the inverse of matrix $A$ and multiplying it by vector $B$.\n",
        "$$ A \\cdot X = B \\rightarrow X = A^{-1} \\cdot B $$\n",
        "**Adjugate Method for Matrix Inversion:**\n",
        "\n",
        "To find the inverse of matrix $ A $, you can use the adjugate method:\n",
        "$$ A^{-1} = \\frac{1}{\\text{det}(A)} \\times \\text{adj}(A) $$\n",
        "where $\\text{adj}(A)$ is the adjugate (or adjoint) matrix, which is the transpose of the cofactor matrix of $ A $.\n",
        "\n",
        "**Cofactor Matrix:**\n",
        "\n",
        "The cofactor matrix is a matrix where each element is replaced by its cofactor. The cofactor of an element $a_{ij}$ is given by:\n",
        "$$ (-1)^{i+j} \\times \\text{det}(M_{ij}) $$\n",
        "where $M_{ij}$ is the minor of element $a_{ij}$, which is the matrix obtained by removing the $i$-th row and $j$-th column from matrix $A$."
      ]
    },
    {
      "cell_type": "code",
      "execution_count": null,
      "metadata": {
        "id": "8IfyEtiSIet2",
        "outputId": "c06cd623-d523-415e-fc49-36074988c65e"
      },
      "outputs": [
        {
          "name": "stdout",
          "output_type": "stream",
          "text": [
            "solve(A, B)=[0, 0, 0]\n"
          ]
        }
      ],
      "source": [
        "def minor(matrix: list[list[float]], i: int, j: int) -> list[list[float]]:\n",
        "    return [[0, 0], [0, 0]]\n",
        "\n",
        "def cofactor(matrix: list[list[float]]) -> list[list[float]]:\n",
        "    return [[0, 0, 0], [0, 0, 0], [0, 0, 0]]\n",
        "\n",
        "def adjoint(matrix: list[list[float]]) -> list[list[float]]:\n",
        "    return [[0, 0, 0], [0, 0, 0], [0, 0, 0]]\n",
        "\n",
        "def solve(matrix: list[list[float]], vector: list[float]) -> list[float]:\n",
        "    return [0, 0, 0]\n",
        "\n",
        "print(f\"{solve(A, B)=}\")"
      ]
    }
  ],
  "metadata": {
    "kernelspec": {
      "display_name": "Python 3",
      "language": "python",
      "name": "python3"
    },
    "language_info": {
      "codemirror_mode": {
        "name": "ipython",
        "version": 3
      },
      "file_extension": ".py",
      "mimetype": "text/x-python",
      "name": "python",
      "nbconvert_exporter": "python",
      "pygments_lexer": "ipython3",
      "version": "3.11.2"
    },
    "colab": {
      "provenance": []
    }
  },
  "nbformat": 4,
  "nbformat_minor": 0
}